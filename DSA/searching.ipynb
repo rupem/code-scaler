{
  "nbformat": 4,
  "nbformat_minor": 0,
  "metadata": {
    "colab": {
      "provenance": [],
      "authorship_tag": "ABX9TyOxdx5KqCCR5ed3NPnKwffR",
      "include_colab_link": true
    },
    "kernelspec": {
      "name": "python3",
      "display_name": "Python 3"
    },
    "language_info": {
      "name": "python"
    }
  },
  "cells": [
    {
      "cell_type": "markdown",
      "metadata": {
        "id": "view-in-github",
        "colab_type": "text"
      },
      "source": [
        "<a href=\"https://colab.research.google.com/github/rupem/code-scaler/blob/main/DSA/searching.ipynb\" target=\"_parent\"><img src=\"https://colab.research.google.com/assets/colab-badge.svg\" alt=\"Open In Colab\"/></a>"
      ]
    },
    {
      "cell_type": "markdown",
      "source": [
        "# Searching\n",
        "\n",
        "\n",
        "*   Linear Search\n",
        "*   Binary Search\n",
        "\n"
      ],
      "metadata": {
        "id": "5xu9bkEekEM3"
      }
    },
    {
      "cell_type": "code",
      "source": [
        "def recur_search(key, values, lower, upper):\n",
        "\n",
        "  mid = (lower + upper) // 2\n",
        "  print(lower,upper,mid,values[mid],key)\n",
        "  if (upper < lower):\n",
        "    return False\n",
        "\n",
        "  if (key == values[mid]):\n",
        "    return True;\n",
        " \n",
        "  elif (key < values[mid]):\n",
        "    recur_search(key, values, lower, mid - 1)\n",
        "\n",
        "  else: \n",
        "    recur_search(key, values, mid + 1, upper)\n",
        "\n",
        "  return False"
      ],
      "metadata": {
        "id": "_WfNYjhB3mrx"
      },
      "execution_count": null,
      "outputs": []
    },
    {
      "cell_type": "code",
      "source": [
        "recur_search(5,[1,2,3,4,5],0,4)"
      ],
      "metadata": {
        "colab": {
          "base_uri": "https://localhost:8080/"
        },
        "id": "4wPddPoE3rtG",
        "outputId": "2a64c06d-7fd7-4b96-e376-a43d0e709e17"
      },
      "execution_count": null,
      "outputs": [
        {
          "output_type": "stream",
          "name": "stdout",
          "text": [
            "0 4 2 3 5\n",
            "3 4 3 4 5\n",
            "4 4 4 5 5\n"
          ]
        },
        {
          "output_type": "execute_result",
          "data": {
            "text/plain": [
              "False"
            ]
          },
          "metadata": {},
          "execution_count": 23
        }
      ]
    },
    {
      "cell_type": "code",
      "source": [
        "def sentinelSearch(ar,target,n):\n",
        "  last = ar[n-1]\n",
        "  ar[n-1] = target\n",
        "  i = 0\n",
        "  while ar[i]!=target:\n",
        "    i+=1\n",
        "  ar[n-1] = last\n",
        "  if (i<n-1) or target==ar[n-1]:\n",
        "    return i\n",
        "  else:\n",
        "    return -1"
      ],
      "metadata": {
        "id": "shdrWG3W4EEo"
      },
      "execution_count": null,
      "outputs": []
    },
    {
      "cell_type": "code",
      "source": [
        "sentinelSearch([1,2,3,4,5],5,5)"
      ],
      "metadata": {
        "colab": {
          "base_uri": "https://localhost:8080/"
        },
        "id": "UufYz8dt4QFE",
        "outputId": "bbe9c335-9359-4a96-da29-173cc4aa72f1"
      },
      "execution_count": null,
      "outputs": [
        {
          "output_type": "execute_result",
          "data": {
            "text/plain": [
              "4"
            ]
          },
          "metadata": {},
          "execution_count": 6
        }
      ]
    },
    {
      "cell_type": "markdown",
      "source": [
        "##Q. Return count of numbers lessthan or equal to given number in sorted list"
      ],
      "metadata": {
        "id": "em5K6t8M65c6"
      }
    },
    {
      "cell_type": "code",
      "source": [
        "def solve(A,B):\n",
        "  start = 0\n",
        "  end = len(A) - 1\n",
        "  mid = (start + end) // 2\n",
        "  result = 0\n",
        "  while start <= end :\n",
        "\n",
        "    mid = (start + end) // 2 \n",
        "\n",
        "    if B >= A[mid]:\n",
        "      result = mid + 1\n",
        "      start = mid + 1\n",
        "      \n",
        "\n",
        "    else:\n",
        "      end = mid - 1\n",
        "      \n",
        "\n",
        "  return result"
      ],
      "metadata": {
        "id": "1-P2c2yV4YGA"
      },
      "execution_count": null,
      "outputs": []
    },
    {
      "cell_type": "code",
      "source": [
        "print(solve([1,3,4,4,6],4))"
      ],
      "metadata": {
        "colab": {
          "base_uri": "https://localhost:8080/"
        },
        "id": "BraUicii7-ew",
        "outputId": "c4540a3e-032c-4fa1-f4be-b20f01b01b0a"
      },
      "execution_count": null,
      "outputs": [
        {
          "output_type": "stream",
          "name": "stdout",
          "text": [
            "4\n"
          ]
        }
      ]
    },
    {
      "cell_type": "code",
      "source": [],
      "metadata": {
        "id": "D2uJd9KA8F_m"
      },
      "execution_count": null,
      "outputs": []
    }
  ]
}